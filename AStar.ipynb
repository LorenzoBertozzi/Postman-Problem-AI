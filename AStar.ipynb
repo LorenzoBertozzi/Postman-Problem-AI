{
  "nbformat": 4,
  "nbformat_minor": 0,
  "metadata": {
    "colab": {
      "provenance": [],
      "authorship_tag": "ABX9TyOrV9QuwPD3BtU2ri4LbnWt",
      "include_colab_link": true
    },
    "kernelspec": {
      "name": "python3",
      "display_name": "Python 3"
    },
    "language_info": {
      "name": "python"
    }
  },
  "cells": [
    {
      "cell_type": "markdown",
      "metadata": {
        "id": "view-in-github",
        "colab_type": "text"
      },
      "source": [
        "<a href=\"https://colab.research.google.com/github/LorenzoBertozzi/Postman-Problem-AI/blob/main/AStar.ipynb\" target=\"_parent\"><img src=\"https://colab.research.google.com/assets/colab-badge.svg\" alt=\"Open In Colab\"/></a>"
      ]
    },
    {
      "cell_type": "code",
      "execution_count": 2,
      "metadata": {
        "id": "pUhWOGSQ4DSK"
      },
      "outputs": [],
      "source": [
        "from queue import PriorityQueue"
      ]
    },
    {
      "cell_type": "code",
      "source": [
        "# Definição do grafo de cidades, suas conexões e os custos associados\n",
        "romania_map = {\n",
        "    'Arad': {'Zerind': 75, 'Sibiu': 140, 'Timisoara': 118},\n",
        "    'Zerind': {'Arad': 75, 'Oradea': 71},\n",
        "    'Oradea': {'Zerind': 71, 'Sibiu': 151},\n",
        "    'Sibiu': {'Arad': 140, 'Oradea': 151, 'Fagaras': 99, 'Rimnicu': 80},\n",
        "    'Timisoara': {'Arad': 118, 'Lugoj': 111},\n",
        "    'Lugoj': {'Timisoara': 111, 'Mehadia': 70},\n",
        "    'Mehadia': {'Lugoj': 70, 'Drobeta': 75},\n",
        "    'Drobeta': {'Mehadia': 75, 'Craiova': 120},\n",
        "    'Craiova': {'Drobeta': 120, 'Rimnicu': 146, 'Pitesti': 138},\n",
        "    'Rimnicu': {'Sibiu': 80, 'Craiova': 146, 'Pitesti': 97},\n",
        "    'Fagaras': {'Sibiu': 99, 'Bucharest': 211},\n",
        "    'Pitesti': {'Rimnicu': 97, 'Craiova': 138, 'Bucharest': 101},\n",
        "    'Bucharest': {'Fagaras': 211, 'Pitesti': 101}\n",
        "}"
      ],
      "metadata": {
        "id": "xyhfPaO842xm"
      },
      "execution_count": 3,
      "outputs": []
    },
    {
      "cell_type": "code",
      "source": [
        "# Função heurística para estimar o custo restante de uma cidade até o destino (distância em linha reta)\n",
        "heuristic = {\n",
        "    'Arad': 366,\n",
        "    'Zerind': 374,\n",
        "    'Oradea': 380,\n",
        "    'Sibiu': 253,\n",
        "    'Timisoara': 329,\n",
        "    'Lugoj': 244,\n",
        "    'Mehadia': 241,\n",
        "    'Drobeta': 242,\n",
        "    'Craiova': 160,\n",
        "    'Rimnicu': 193,\n",
        "    'Fagaras': 176,\n",
        "    'Pitesti': 100,\n",
        "    'Bucharest': 0\n",
        "}"
      ],
      "metadata": {
        "id": "I0BZcac75AsY"
      },
      "execution_count": 4,
      "outputs": []
    },
    {
      "cell_type": "code",
      "source": [
        "# Função A* para encontrar o caminho mais curto\n",
        "def astar_search(graph, start, goal):\n",
        "    frontier = PriorityQueue()\n",
        "    frontier.put((0, start))\n",
        "    came_from = {start: None}\n",
        "    cost_so_far = {start: 0}\n",
        "\n",
        "    while not frontier.empty():\n",
        "        current_cost, current_node = frontier.get()\n",
        "\n",
        "        if current_node == goal:\n",
        "            break\n",
        "\n",
        "        for next_node, cost in graph[current_node].items():\n",
        "            new_cost = cost_so_far[current_node] + cost\n",
        "            if next_node not in cost_so_far or new_cost < cost_so_far[next_node]:\n",
        "                cost_so_far[next_node] = new_cost\n",
        "                priority = new_cost + heuristic[next_node]\n",
        "                frontier.put((priority, next_node))\n",
        "                came_from[next_node] = current_node\n",
        "\n",
        "    path = []\n",
        "    current = goal\n",
        "    while current is not None:\n",
        "        path.append(current)\n",
        "        current = came_from[current]\n",
        "    path.reverse()\n",
        "    return path"
      ],
      "metadata": {
        "id": "3bj_maeT5D_D"
      },
      "execution_count": 5,
      "outputs": []
    },
    {
      "cell_type": "code",
      "source": [
        "# Exemplo de utilização\n",
        "start_city = 'Arad'\n",
        "goal_city = 'Bucharest'\n",
        "path = astar_search(romania_map, start_city, goal_city)\n",
        "print(f\"O caminho mais curto de {start_city} para {goal_city} é: {path}\")"
      ],
      "metadata": {
        "colab": {
          "base_uri": "https://localhost:8080/"
        },
        "id": "FgaWC11P5IJ4",
        "outputId": "425981c7-af67-4c1b-86c4-242e2108118c"
      },
      "execution_count": 6,
      "outputs": [
        {
          "output_type": "stream",
          "name": "stdout",
          "text": [
            "O caminho mais curto de Arad para Bucharest é: ['Arad', 'Sibiu', 'Rimnicu', 'Pitesti', 'Bucharest']\n"
          ]
        }
      ]
    }
  ]
}